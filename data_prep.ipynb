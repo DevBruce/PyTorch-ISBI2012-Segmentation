{
 "cells": [
  {
   "cell_type": "markdown",
   "metadata": {},
   "source": [
    "# Data Preprocess"
   ]
  },
  {
   "cell_type": "markdown",
   "metadata": {},
   "source": [
    "## Import Libraries"
   ]
  },
  {
   "cell_type": "code",
   "execution_count": 1,
   "metadata": {},
   "outputs": [],
   "source": [
    "import os\n",
    "import random\n",
    "\n",
    "import cv2\n",
    "import numpy as np\n",
    "import matplotlib.pyplot as plt\n",
    "from PIL import Image\n",
    "\n",
    "from config import *  # import basic paths"
   ]
  },
  {
   "cell_type": "markdown",
   "metadata": {},
   "source": [
    "## Load Data"
   ]
  },
  {
   "cell_type": "code",
   "execution_count": 2,
   "metadata": {},
   "outputs": [],
   "source": [
    "train_img_path = os.path.join(DATA_DIR, 'train-volume.tif')\n",
    "train_label_path = os.path.join(DATA_DIR, 'train-labels.tif')\n",
    "\n",
    "train_imgs = Image.open(train_img_path)\n",
    "train_labels = Image.open(train_label_path)"
   ]
  },
  {
   "cell_type": "markdown",
   "metadata": {},
   "source": [
    "# Split Files"
   ]
  },
  {
   "cell_type": "code",
   "execution_count": 3,
   "metadata": {},
   "outputs": [],
   "source": [
    "data_list = list()\n",
    "\n",
    "for n in range(train_imgs.n_frames):\n",
    "    train_imgs.seek(n)\n",
    "    train_labels.seek(n)\n",
    "    \n",
    "    train_img = np.asarray(train_imgs)\n",
    "    train_label = np.asarray(train_labels)\n",
    "    \n",
    "    data_list.append((train_img, train_label))\n",
    "\n",
    "# Shuffle and Split Data\n",
    "random.shuffle(data_list)\n",
    "train_list = data_list[:24]\n",
    "val_list = data_list[24:27]\n",
    "test_list = data_list[27:]"
   ]
  },
  {
   "cell_type": "markdown",
   "metadata": {},
   "source": [
    "# Save Splited Files"
   ]
  },
  {
   "cell_type": "code",
   "execution_count": 4,
   "metadata": {},
   "outputs": [],
   "source": [
    "for idx, data in enumerate(train_list, 1):\n",
    "    img, label = data\n",
    "    img_dst = os.path.join(TRAIN_IMGS_DIR, f'{idx:02}.png')\n",
    "    label_dst = os.path.join(TRAIN_LABELS_DIR, f'{idx:02}.png')\n",
    "    cv2.imwrite(img_dst, img)\n",
    "    cv2.imwrite(label_dst, label)\n",
    "    \n",
    "for idx, data in enumerate(val_list, 1):\n",
    "    img, label = data\n",
    "    img_dst = os.path.join(VAL_IMGS_DIR, f'{idx:02}.png')\n",
    "    label_dst = os.path.join(VAL_LABELS_DIR, f'{idx:02}.png')\n",
    "    cv2.imwrite(img_dst, img)\n",
    "    cv2.imwrite(label_dst, label)\n",
    "    \n",
    "for idx, data in enumerate(test_list, 1):\n",
    "    img, label = data\n",
    "    img_dst = os.path.join(TEST_IMGS_DIR, f'{idx:02}.png')\n",
    "    label_dst = os.path.join(TEST_LABELS_DIR, f'{idx:02}.png')\n",
    "    cv2.imwrite(img_dst, img)\n",
    "    cv2.imwrite(label_dst, label)"
   ]
  }
 ],
 "metadata": {
  "kernelspec": {
   "display_name": "Python 3",
   "language": "python",
   "name": "python3"
  },
  "language_info": {
   "codemirror_mode": {
    "name": "ipython",
    "version": 3
   },
   "file_extension": ".py",
   "mimetype": "text/x-python",
   "name": "python",
   "nbconvert_exporter": "python",
   "pygments_lexer": "ipython3",
   "version": "3.6.9"
  }
 },
 "nbformat": 4,
 "nbformat_minor": 4
}
